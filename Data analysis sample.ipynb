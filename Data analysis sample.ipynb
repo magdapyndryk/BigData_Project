{
 "cells": [
  {
   "cell_type": "code",
   "execution_count": null,
   "metadata": {},
   "outputs": [],
   "source": [
    "# Wczytanie zbioru danych z informacją o tym, czy klient dokonał zakupu \n",
    "# oraz czy została mu wysłana oferta reklamowa\n",
    "import pandas as pd\n",
    "\n",
    "df = pd.read_csv(\"klienci2.csv\", sep=';')\n",
    "df"
   ]
  },
  {
   "cell_type": "code",
   "execution_count": null,
   "metadata": {},
   "outputs": [],
   "source": [
    "# Wczytanie drugiego zbioru z klientami\n",
    "import pandas as pd\n",
    "\n",
    "df2 = pd.read_csv(\"klienci-finalnie.csv\", sep=';')\n",
    "df2"
   ]
  },
  {
   "cell_type": "code",
   "execution_count": null,
   "metadata": {},
   "outputs": [],
   "source": [
    "# Ustalenie, czy zbiór zawiera braki danych\n",
    "\n",
    "liczba_obiektow = df2.shape[0]\n",
    "liczba_klas = df2.shape[1]\n",
    "braki = df2.isnull().sum().sum()\n",
    "obiekty_z_brakami = df2.shape[0] - df2.copy().dropna(how='any').shape[0]\n",
    "poziom_wypelnienia_kolumn = (liczba_klas * liczba_obiektow - braki) / (liczba_klas * liczba_obiektow)\n",
    "\n",
    "print(f\"liczba obiektów: {liczba_obiektow}\\nliczba klas: {liczba_klas}\")\n",
    "print(f\"liczba braków danych: {braki}\\nliczba obiektów z brakami: {obiekty_z_brakami}\")\n",
    "print(f\"poziom wypełnienia kolumn: {poziom_wypelnienia_kolumn * 100}%\")"
   ]
  },
  {
   "cell_type": "code",
   "execution_count": null,
   "metadata": {},
   "outputs": [],
   "source": [
    "# Nadanie właściwych nazw kolumnom\n",
    "df3 = df2.set_axis(['.', 'numer', 'wiek', 'plec', 'wyksztalcenie', 'miejsce', 'kwota', 'wojewodztwo'], axis=1, inplace=False)\n",
    "df3"
   ]
  },
  {
   "cell_type": "code",
   "execution_count": null,
   "metadata": {},
   "outputs": [],
   "source": [
    "# sprawdzenie kategorii\n",
    "df3.miejsce.unique()"
   ]
  },
  {
   "cell_type": "code",
   "execution_count": null,
   "metadata": {},
   "outputs": [],
   "source": [
    "# W zbiorze danych znajduje się 100895 obiektów i 8 cech\n",
    "print(df3.shape)"
   ]
  },
  {
   "cell_type": "code",
   "execution_count": null,
   "metadata": {},
   "outputs": [],
   "source": [
    "# Najwięcej klientów pochodzi ze wsi lub z miejscowości do 10 tys mieszkańców\n",
    "print(df3.groupby('miejsce').size())"
   ]
  },
  {
   "cell_type": "code",
   "execution_count": null,
   "metadata": {},
   "outputs": [],
   "source": [
    "# Oferta została przesłana do 2006 klientów\n",
    "print(df.groupby('wysylka_oferty').size())"
   ]
  },
  {
   "cell_type": "code",
   "execution_count": null,
   "metadata": {},
   "outputs": [],
   "source": [
    "# Zakupu dokonało 1317 klientów\n",
    "print(df.groupby('zakup').size())"
   ]
  },
  {
   "cell_type": "code",
   "execution_count": null,
   "metadata": {},
   "outputs": [],
   "source": [
    "# Połączenie obu zbiorów danych ułatwi przeprowadzenie metod klasyfikacji\n",
    "df4 = pd.concat([df, df3])\n",
    "df4"
   ]
  },
  {
   "cell_type": "code",
   "execution_count": null,
   "metadata": {},
   "outputs": [],
   "source": [
    "import seaborn as sns\n",
    "sns.countplot(df4['miejsce'],label=\"Count\")\n",
    "plt.show()"
   ]
  },
  {
   "cell_type": "code",
   "execution_count": null,
   "metadata": {},
   "outputs": [],
   "source": [
    "import seaborn as sns\n",
    "sns.countplot(df4['wyksztalcenie'],label=\"Count\")\n",
    "plt.show()"
   ]
  },
  {
   "cell_type": "code",
   "execution_count": null,
   "metadata": {},
   "outputs": [],
   "source": [
    "import seaborn as sns\n",
    "sns.countplot(df4['wojewodztwo'],label=\"Count\")\n",
    "plt.xticks(rotation=45)\n",
    "plt.show()"
   ]
  },
  {
   "cell_type": "code",
   "execution_count": null,
   "metadata": {},
   "outputs": [],
   "source": [
    "df2.drop('wyksztalcenie', axis=1).plot(kind='box', subplots=True, layout=(2,2), sharex=False, sharey=False, figsize=(9,9), \n",
    "                                        title='Box Plot for each input variable')\n",
    "plt.savefig('wyksztalcenie_box')\n",
    "plt.show()"
   ]
  },
  {
   "cell_type": "code",
   "execution_count": null,
   "metadata": {},
   "outputs": [],
   "source": [
    "import pylab as pl\n",
    "df4.drop('wyksztalcenie' ,axis=1).hist(bins=30, figsize=(9,9))\n",
    "pl.suptitle(\"Histogram for each numeric input variable\")\n",
    "plt.savefig('wyksztalcenie_hist')\n",
    "plt.show()"
   ]
  },
  {
   "cell_type": "code",
   "execution_count": null,
   "metadata": {},
   "outputs": [],
   "source": [
    "# Przed przystąpieniem do budowania wykresu korelacji upewniam się,\n",
    "# że wszystkie zmienne mają odpowiedni typ numeryczny\n",
    "print(df4.dtypes)"
   ]
  },
  {
   "cell_type": "code",
   "execution_count": null,
   "metadata": {},
   "outputs": [],
   "source": [
    "df4['miejsce'] = pd.to_numeric(df4['miejsce'],errors='coerce')\n",
    "df4['wyksztalcenie'] = pd.to_numeric(df4['wyksztalcenie'],errors='coerce')\n",
    "df4['wojewodztwo'] = pd.to_numeric(df4['wojewodztwo'],errors='coerce')"
   ]
  },
  {
   "cell_type": "code",
   "execution_count": null,
   "metadata": {},
   "outputs": [],
   "source": [
    "# Wykres korelacji \n",
    "\n",
    "import seaborn as sns\n",
    "\n",
    "f, ax = pl.subplots(figsize=(10, 8))\n",
    "corr = df4.corr()\n",
    "sns.heatmap(corr, mask=np.zeros_like(corr, dtype=np.bool), cmap=sns.diverging_palette(220, 10, as_cmap=True),\n",
    "            square=True, ax=ax)"
   ]
  },
  {
   "cell_type": "code",
   "execution_count": null,
   "metadata": {},
   "outputs": [],
   "source": [
    "# Dokonanie podziału zbioru na testowy i treningowy\n",
    "from sklearn.model_selection import train_test_split\n",
    "X_train, X_test, y_train, y_test = train_test_split(X, y, random_state=0)\n",
    "from sklearn.preprocessing import MinMaxScaler\n",
    "scaler = MinMaxScaler()\n",
    "X_train = scaler.fit_transform(X_train)\n",
    "X_test = scaler.transform(X_test)"
   ]
  },
  {
   "cell_type": "code",
   "execution_count": null,
   "metadata": {},
   "outputs": [],
   "source": [
    "from sklearn.tree import DecisionTreeClassifier\n",
    "clf = DecisionTreeClassifier().fit(X_train, y_train)\n",
    "print('Dokładność klasyfikatora drzewa decyzyjnego na treningowym zbiorze danych: {:.2f}'\n",
    "     .format(clf.score(X_train, y_train)))\n",
    "print('Dokładność klasyfikatora drzewa decyzyjnego na testowym zbiorze danych: {:.2f}'\n",
    "     .format(clf.score(X_test, y_test)))"
   ]
  },
  {
   "cell_type": "code",
   "execution_count": null,
   "metadata": {},
   "outputs": [],
   "source": [
    "from sklearn.neighbors import KNeighborsClassifier\n",
    "knn = KNeighborsClassifier()\n",
    "knn.fit(X_train, y_train)\n",
    "print('Dokładność klasyfikatora K-najbliższych sąsiadów na treningowym zbiorze danych: {:.2f}'\n",
    "     .format(knn.score(X_train, y_train)))\n",
    "print('Dokładność klasyfikatora K-najbliższych sąsiadów na testowym zbiorze danych: {:.2f}'\n",
    "     .format(knn.score(X_test, y_test)))"
   ]
  },
  {
   "cell_type": "code",
   "execution_count": null,
   "metadata": {},
   "outputs": [],
   "source": [
    "from sklearn.naive_bayes import GaussianNB\n",
    "gnb = GaussianNB()\n",
    "gnb.fit(X_train, y_train)\n",
    "print('Dokładność Naiwnego Klasyfikatora Bayesa na treningowym zbiorze danych: {:.2f}'\n",
    "     .format(gnb.score(X_train, y_train)))\n",
    "print('Dokładność Naiwnego Klasyfikatora Bayesa na testowym zbiorze danych: {:.2f}'\n",
    "     .format(gnb.score(X_test, y_test)))"
   ]
  },
  {
   "cell_type": "code",
   "execution_count": null,
   "metadata": {},
   "outputs": [],
   "source": [
    "from sklearn.metrics import classification_report\n",
    "from sklearn.metrics import confusion_matrix\n",
    "pred = knn.predict(X_test)\n",
    "print(confusion_matrix(y_test, pred))\n",
    "print(classification_report(y_test, pred))"
   ]
  },
  {
   "cell_type": "code",
   "execution_count": null,
   "metadata": {},
   "outputs": [],
   "source": [
    "from sklearn.linear_model import LogisticRegression\n",
    "\n",
    "logreg = LogisticRegression()\n",
    "logreg.fit(X_train, y_train)\n",
    "print('Accuracy of Logistic regression classifier on training set: {:.2f}'\n",
    "     .format(logreg.score(X_train, y_train)))\n",
    "print('Accuracy of Logistic regression classifier on test set: {:.2f}'\n",
    "     .format(logreg.score(X_test, y_test)))"
   ]
  },
  {
   "cell_type": "code",
   "execution_count": null,
   "metadata": {},
   "outputs": [],
   "source": [
    "import pandas as pd\n",
    "import numpy as np\n",
    "from sklearn import preprocessing\n",
    "import matplotlib.pyplot as plt \n",
    "plt.rc(\"font\", size=14)\n",
    "from sklearn.linear_model import LogisticRegression\n",
    "from sklearn.model_selection import train_test_split\n",
    "import seaborn as sns\n",
    "sns.set(style=\"white\")\n",
    "sns.set(style=\"whitegrid\", color_codes=True)"
   ]
  },
  {
   "cell_type": "code",
   "execution_count": null,
   "metadata": {},
   "outputs": [],
   "source": [
    "# dummies = pd.get_dummies(df4['wojewodztwo']).rename(columns=lambda x: 'wojewodztwo_' + str(x))\n",
    "# df4 = pd.concat([df4, dummies], axis=1)\n",
    "# df4 = df4.drop(['wojewodztwo'], inplace=True, axis=1)\n",
    "dummy = pd.get_dummies(df4['wojewodztwo'])\n",
    "dummy.head()"
   ]
  },
  {
   "cell_type": "code",
   "execution_count": null,
   "metadata": {},
   "outputs": [],
   "source": []
  },
  {
   "cell_type": "code",
   "execution_count": null,
   "metadata": {},
   "outputs": [],
   "source": []
  },
  {
   "cell_type": "code",
   "execution_count": null,
   "metadata": {},
   "outputs": [],
   "source": []
  },
  {
   "cell_type": "code",
   "execution_count": null,
   "metadata": {},
   "outputs": [],
   "source": []
  },
  {
   "cell_type": "code",
   "execution_count": null,
   "metadata": {},
   "outputs": [],
   "source": []
  }
 ],
 "metadata": {
  "kernelspec": {
   "display_name": "Python 3",
   "language": "python",
   "name": "python3"
  },
  "language_info": {
   "codemirror_mode": {
    "name": "ipython",
    "version": 3
   },
   "file_extension": ".py",
   "mimetype": "text/x-python",
   "name": "python",
   "nbconvert_exporter": "python",
   "pygments_lexer": "ipython3",
   "version": "3.8.2"
  }
 },
 "nbformat": 4,
 "nbformat_minor": 4
}
